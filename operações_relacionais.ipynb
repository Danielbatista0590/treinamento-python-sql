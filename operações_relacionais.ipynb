{
  "nbformat": 4,
  "nbformat_minor": 0,
  "metadata": {
    "colab": {
      "name": "operações relacionais.ipynb",
      "provenance": [],
      "authorship_tag": "ABX9TyNE06VVKKOvq8pkENuxvUcx",
      "include_colab_link": true
    },
    "kernelspec": {
      "name": "python3",
      "display_name": "Python 3"
    }
  },
  "cells": [
    {
      "cell_type": "markdown",
      "metadata": {
        "id": "view-in-github",
        "colab_type": "text"
      },
      "source": [
        "<a href=\"https://colab.research.google.com/github/Danielbatista0590/treinamento-python-sql/blob/master/opera%C3%A7%C3%B5es_relacionais.ipynb\" target=\"_parent\"><img src=\"https://colab.research.google.com/assets/colab-badge.svg\" alt=\"Open In Colab\"/></a>"
      ]
    },
    {
      "cell_type": "code",
      "metadata": {
        "id": "9zAP_5biOsp1",
        "colab_type": "code",
        "colab": {}
      },
      "source": [
        "x = 2\n",
        "y = 3\n",
        "z = 3"
      ],
      "execution_count": 0,
      "outputs": []
    },
    {
      "cell_type": "code",
      "metadata": {
        "id": "emgOjCt_O_Gc",
        "colab_type": "code",
        "colab": {
          "base_uri": "https://localhost:8080/",
          "height": 34
        },
        "outputId": "9df063bc-d110-4753-cd8a-49a216406b3f"
      },
      "source": [
        "print (x == y and x == z)"
      ],
      "execution_count": 10,
      "outputs": [
        {
          "output_type": "stream",
          "text": [
            "False\n"
          ],
          "name": "stdout"
        }
      ]
    },
    {
      "cell_type": "code",
      "metadata": {
        "id": "8ehkVUE0PGzk",
        "colab_type": "code",
        "colab": {
          "base_uri": "https://localhost:8080/",
          "height": 34
        },
        "outputId": "58cf448e-c20d-4f03-aac4-5cd3a781f8b8"
      },
      "source": [
        "print (x == y or y == z)"
      ],
      "execution_count": 11,
      "outputs": [
        {
          "output_type": "stream",
          "text": [
            "True\n"
          ],
          "name": "stdout"
        }
      ]
    },
    {
      "cell_type": "markdown",
      "metadata": {
        "id": "q3IGQcLNP7mX",
        "colab_type": "text"
      },
      "source": [
        "Comandos condicionais"
      ]
    },
    {
      "cell_type": "code",
      "metadata": {
        "id": "np18MOiLPlSj",
        "colab_type": "code",
        "colab": {
          "base_uri": "https://localhost:8080/",
          "height": 34
        },
        "outputId": "fa3ff26a-9f4a-4163-cbdc-0d5b7b869fed"
      },
      "source": [
        "# if são testes condicionais\n",
        "#Estrutura\n",
        "\n",
        "'''\n",
        "if \"condição\"\n",
        "  execute_esta_linha\n",
        "'''\n"
      ],
      "execution_count": 15,
      "outputs": [
        {
          "output_type": "execute_result",
          "data": {
            "text/plain": [
              "'\\nif \"condição\"\\n  execute_esta_linha\\n'"
            ]
          },
          "metadata": {
            "tags": []
          },
          "execution_count": 15
        }
      ]
    },
    {
      "cell_type": "markdown",
      "metadata": {
        "id": "NVS7vE0AQbTU",
        "colab_type": "text"
      },
      "source": [
        "Bloco\n",
        "Trecho de código que depende de outro trecho\n"
      ]
    },
    {
      "cell_type": "code",
      "metadata": {
        "id": "PtGxalYQP7Hm",
        "colab_type": "code",
        "colab": {}
      },
      "source": [
        "x = 1\n",
        "y = 1000000"
      ],
      "execution_count": 0,
      "outputs": []
    },
    {
      "cell_type": "code",
      "metadata": {
        "id": "BFPckux0Q91A",
        "colab_type": "code",
        "colab": {
          "base_uri": "https://localhost:8080/",
          "height": 34
        },
        "outputId": "979224de-20b9-4e26-8dd8-dad9e2490d98"
      },
      "source": [
        "if x > y:\n",
        "  print(\"x é maior que y\")\n",
        "\n",
        "if y > x:\n",
        "  print (\"y é maior que x\")"
      ],
      "execution_count": 19,
      "outputs": [
        {
          "output_type": "stream",
          "text": [
            "y é maior que x\n"
          ],
          "name": "stdout"
        }
      ]
    },
    {
      "cell_type": "code",
      "metadata": {
        "id": "CsIz91vmROD-",
        "colab_type": "code",
        "colab": {}
      },
      "source": [
        "x = 1\n",
        "y = 2"
      ],
      "execution_count": 0,
      "outputs": []
    },
    {
      "cell_type": "code",
      "metadata": {
        "id": "aZ0ggpG3SIRM",
        "colab_type": "code",
        "colab": {
          "base_uri": "https://localhost:8080/",
          "height": 34
        },
        "outputId": "99147a0e-9c9e-4e95-bd89-7cc8c3d42f26"
      },
      "source": [
        "if x > y:\n",
        "  print(\"x maior que y\")\n",
        "else:\n",
        "  print(\"x não é maior que y\")"
      ],
      "execution_count": 21,
      "outputs": [
        {
          "output_type": "stream",
          "text": [
            "x não é maior que y\n"
          ],
          "name": "stdout"
        }
      ]
    },
    {
      "cell_type": "code",
      "metadata": {
        "id": "hVf7O-d7SQ9C",
        "colab_type": "code",
        "colab": {}
      },
      "source": [
        "#comando elif"
      ],
      "execution_count": 0,
      "outputs": []
    },
    {
      "cell_type": "code",
      "metadata": {
        "id": "lX45xFAtSXDr",
        "colab_type": "code",
        "colab": {}
      },
      "source": [
        "x = 1\n",
        "y = 2"
      ],
      "execution_count": 0,
      "outputs": []
    },
    {
      "cell_type": "code",
      "metadata": {
        "id": "0aX9KWEfS-xJ",
        "colab_type": "code",
        "colab": {
          "base_uri": "https://localhost:8080/",
          "height": 34
        },
        "outputId": "74b0dd79-651a-4898-fe1e-2b0b3b82d0f6"
      },
      "source": [
        "if x == y:\n",
        "  print(\"npumeros iguaus\")\n",
        "elif y < x:\n",
        "  print(\"y maior uqe x\")\n",
        "else:\n",
        "  print(\"números diferentes\")\n"
      ],
      "execution_count": 25,
      "outputs": [
        {
          "output_type": "stream",
          "text": [
            "números diferentes\n"
          ],
          "name": "stdout"
        }
      ]
    },
    {
      "cell_type": "code",
      "metadata": {
        "id": "epfaBJafTWGR",
        "colab_type": "code",
        "colab": {}
      },
      "source": [
        "# Estruturas de repetição (while)\n",
        "# Laços de repetição.\n",
        "#repete o bloco inteiro\n"
      ],
      "execution_count": 0,
      "outputs": []
    },
    {
      "cell_type": "code",
      "metadata": {
        "id": "TQeblJZMTsLG",
        "colab_type": "code",
        "colab": {}
      },
      "source": [
        "x = 1"
      ],
      "execution_count": 0,
      "outputs": []
    },
    {
      "cell_type": "code",
      "metadata": {
        "id": "m5eqR2vJT9so",
        "colab_type": "code",
        "colab": {
          "base_uri": "https://localhost:8080/",
          "height": 170
        },
        "outputId": "662ac6b5-606a-405f-bcb5-54c907dc63b6"
      },
      "source": [
        "while x <10:\n",
        "    print(x)\n",
        "    x = x + 1 "
      ],
      "execution_count": 28,
      "outputs": [
        {
          "output_type": "stream",
          "text": [
            "1\n",
            "2\n",
            "3\n",
            "4\n",
            "5\n",
            "6\n",
            "7\n",
            "8\n",
            "9\n"
          ],
          "name": "stdout"
        }
      ]
    },
    {
      "cell_type": "code",
      "metadata": {
        "id": "KLvRhBKYULgr",
        "colab_type": "code",
        "colab": {}
      },
      "source": [
        "#for\n",
        "#lista"
      ],
      "execution_count": 0,
      "outputs": []
    },
    {
      "cell_type": "code",
      "metadata": {
        "id": "dmYERenBWdYj",
        "colab_type": "code",
        "colab": {}
      },
      "source": [
        "lista = [1,2,3,4,5]"
      ],
      "execution_count": 0,
      "outputs": []
    },
    {
      "cell_type": "code",
      "metadata": {
        "id": "pF6jFrCkWkQb",
        "colab_type": "code",
        "colab": {}
      },
      "source": [
        "lista2 = [\"olá\",\"mundo\"]\n",
        "lista3 = [0,\"ola\",\"biscoito\",9.99]"
      ],
      "execution_count": 0,
      "outputs": []
    },
    {
      "cell_type": "code",
      "metadata": {
        "id": "aWVgx9FOWygI",
        "colab_type": "code",
        "colab": {
          "base_uri": "https://localhost:8080/",
          "height": 102
        },
        "outputId": "9dfdf6c0-9d34-4c72-b63e-1a2bc3da9883"
      },
      "source": [
        "for i in lista:\n",
        "  print(i)"
      ],
      "execution_count": 33,
      "outputs": [
        {
          "output_type": "stream",
          "text": [
            "1\n",
            "2\n",
            "3\n",
            "4\n",
            "5\n"
          ],
          "name": "stdout"
        }
      ]
    },
    {
      "cell_type": "code",
      "metadata": {
        "id": "0s8Gf8tAW28W",
        "colab_type": "code",
        "colab": {
          "base_uri": "https://localhost:8080/",
          "height": 85
        },
        "outputId": "edde5370-9452-401a-ddc9-9d3e209456d9"
      },
      "source": [
        "for i in lista3:\n",
        "  print(i)"
      ],
      "execution_count": 34,
      "outputs": [
        {
          "output_type": "stream",
          "text": [
            "0\n",
            "ola\n",
            "biscoito\n",
            "9.99\n"
          ],
          "name": "stdout"
        }
      ]
    },
    {
      "cell_type": "code",
      "metadata": {
        "id": "Mnf5MsELW9op",
        "colab_type": "code",
        "colab": {
          "base_uri": "https://localhost:8080/",
          "height": 68
        },
        "outputId": "3b09e793-fc5f-4cd9-d01c-31062bf6fd8a"
      },
      "source": [
        "for i in range (10,20,4):\n",
        "  print(i)"
      ],
      "execution_count": 36,
      "outputs": [
        {
          "output_type": "stream",
          "text": [
            "10\n",
            "14\n",
            "18\n"
          ],
          "name": "stdout"
        }
      ]
    },
    {
      "cell_type": "code",
      "metadata": {
        "id": "uZ774Gt9XJa6",
        "colab_type": "code",
        "colab": {}
      },
      "source": [
        "#Comando input"
      ],
      "execution_count": 0,
      "outputs": []
    },
    {
      "cell_type": "code",
      "metadata": {
        "id": "QOUD9t7pXcOd",
        "colab_type": "code",
        "colab": {
          "base_uri": "https://localhost:8080/",
          "height": 51
        },
        "outputId": "09ad1bcd-e5d2-44be-de80-21ea49fb3c6c"
      },
      "source": [
        "nome = input(\"digite se nome:\")\n",
        "print(\"Olá,\"+nome)"
      ],
      "execution_count": 41,
      "outputs": [
        {
          "output_type": "stream",
          "text": [
            "digite se nome:Daniel\n",
            "Olá,Daniel\n"
          ],
          "name": "stdout"
        }
      ]
    },
    {
      "cell_type": "code",
      "metadata": {
        "id": "PUfpEydhXj0R",
        "colab_type": "code",
        "colab": {}
      },
      "source": [
        "#String\n",
        "#Textos"
      ],
      "execution_count": 0,
      "outputs": []
    },
    {
      "cell_type": "code",
      "metadata": {
        "id": "Dj_MiWjeYR2h",
        "colab_type": "code",
        "colab": {}
      },
      "source": [
        "a = \"Daniel\"\n",
        "b = \"Anne\""
      ],
      "execution_count": 0,
      "outputs": []
    },
    {
      "cell_type": "code",
      "metadata": {
        "id": "5pXVSNCQYto2",
        "colab_type": "code",
        "colab": {
          "base_uri": "https://localhost:8080/",
          "height": 34
        },
        "outputId": "fb55c645-4fc5-45a4-aea5-101b8d812472"
      },
      "source": [
        "concatenar = a + \"&\"+ b\n",
        "print(concatenar)"
      ],
      "execution_count": 46,
      "outputs": [
        {
          "output_type": "stream",
          "text": [
            "Daniel&Anne\n"
          ],
          "name": "stdout"
        }
      ]
    },
    {
      "cell_type": "code",
      "metadata": {
        "id": "hadvtCNPYyfU",
        "colab_type": "code",
        "colab": {
          "base_uri": "https://localhost:8080/",
          "height": 34
        },
        "outputId": "9c52d0b9-09e1-4ec8-b8d7-4275fdfb4e7b"
      },
      "source": [
        "tamanho = len(concatenar)\n",
        "print(tamanho)"
      ],
      "execution_count": 48,
      "outputs": [
        {
          "output_type": "stream",
          "text": [
            "11\n"
          ],
          "name": "stdout"
        }
      ]
    },
    {
      "cell_type": "code",
      "metadata": {
        "id": "Q_qfOV73ZAOH",
        "colab_type": "code",
        "colab": {
          "base_uri": "https://localhost:8080/",
          "height": 34
        },
        "outputId": "c4e0665b-abe0-48fd-9368-3c7343d30887"
      },
      "source": [
        "#comando para exibier o caractere da numeração apontada como '2' nesse exemplo\n",
        "print(a[2])"
      ],
      "execution_count": 50,
      "outputs": [
        {
          "output_type": "stream",
          "text": [
            "n\n"
          ],
          "name": "stdout"
        }
      ]
    },
    {
      "cell_type": "code",
      "metadata": {
        "id": "FuvTgiI5ZJNT",
        "colab_type": "code",
        "colab": {
          "base_uri": "https://localhost:8080/",
          "height": 34
        },
        "outputId": "9f676677-cb82-4c36-a47d-3a86ab3f6ca0"
      },
      "source": [
        "print(concatenar[1:7])"
      ],
      "execution_count": 58,
      "outputs": [
        {
          "output_type": "stream",
          "text": [
            "aniel&\n"
          ],
          "name": "stdout"
        }
      ]
    },
    {
      "cell_type": "code",
      "metadata": {
        "id": "jJrckM-jZh5R",
        "colab_type": "code",
        "colab": {
          "base_uri": "https://localhost:8080/",
          "height": 34
        },
        "outputId": "b5a85eb3-e723-4054-f461-9b9e94f85836"
      },
      "source": [
        "print(concatenar.lower())"
      ],
      "execution_count": 60,
      "outputs": [
        {
          "output_type": "stream",
          "text": [
            "daniel&anne\n"
          ],
          "name": "stdout"
        }
      ]
    },
    {
      "cell_type": "code",
      "metadata": {
        "id": "GI60ttWiaAWv",
        "colab_type": "code",
        "colab": {
          "base_uri": "https://localhost:8080/",
          "height": 34
        },
        "outputId": "74931ae6-d9d4-46fb-f7e4-f095df6590c7"
      },
      "source": [
        "print(concatenar.upper())"
      ],
      "execution_count": 61,
      "outputs": [
        {
          "output_type": "stream",
          "text": [
            "DANIEL&ANNE\n"
          ],
          "name": "stdout"
        }
      ]
    },
    {
      "cell_type": "code",
      "metadata": {
        "id": "wjRkWjXAaJbR",
        "colab_type": "code",
        "colab": {}
      },
      "source": [
        "#Função strip\n",
        "#elimina espaões e caracteres"
      ],
      "execution_count": 0,
      "outputs": []
    },
    {
      "cell_type": "code",
      "metadata": {
        "id": "RpM0qnofaRF5",
        "colab_type": "code",
        "colab": {
          "base_uri": "https://localhost:8080/",
          "height": 34
        },
        "outputId": "26ec8cc7-a0f6-41c0-a240-6d449aa87f12"
      },
      "source": [
        "print(concatenar.strip(\"e\"))"
      ],
      "execution_count": 65,
      "outputs": [
        {
          "output_type": "stream",
          "text": [
            "Daniel&Ann\n"
          ],
          "name": "stdout"
        }
      ]
    },
    {
      "cell_type": "code",
      "metadata": {
        "id": "PYdpLqUraaQR",
        "colab_type": "code",
        "colab": {
          "base_uri": "https://localhost:8080/",
          "height": 34
        },
        "outputId": "b323c786-f525-4e38-a2fe-17a5b6b3f255"
      },
      "source": [
        "com_split = \"o rato roeu a roupa do rei de roma\"\n",
        "com_split = com_split.split(\"a\")\n",
        "print(com_split)"
      ],
      "execution_count": 69,
      "outputs": [
        {
          "output_type": "stream",
          "text": [
            "['o r', 'to roeu ', ' roup', ' do rei de rom', '']\n"
          ],
          "name": "stdout"
        }
      ]
    },
    {
      "cell_type": "code",
      "metadata": {
        "id": "n6vwdvmxa7FC",
        "colab_type": "code",
        "colab": {}
      },
      "source": [
        "#busca de substring\n",
        "minhas_string = \"o rato roel a roupa do rei de roma\""
      ],
      "execution_count": 0,
      "outputs": []
    },
    {
      "cell_type": "code",
      "metadata": {
        "id": "v6uW6u5ybW5Z",
        "colab_type": "code",
        "colab": {}
      },
      "source": [
        "busca = minhas_string.find(\"rato\")"
      ],
      "execution_count": 0,
      "outputs": []
    },
    {
      "cell_type": "code",
      "metadata": {
        "id": "vW-EycM0bcFU",
        "colab_type": "code",
        "colab": {
          "base_uri": "https://localhost:8080/",
          "height": 34
        },
        "outputId": "5c67d055-0607-4ca6-b0fb-2154d5371462"
      },
      "source": [
        "print(busca)"
      ],
      "execution_count": 76,
      "outputs": [
        {
          "output_type": "stream",
          "text": [
            "2\n"
          ],
          "name": "stdout"
        }
      ]
    },
    {
      "cell_type": "code",
      "metadata": {
        "id": "cMfICOC9bdc6",
        "colab_type": "code",
        "colab": {}
      },
      "source": [
        ""
      ],
      "execution_count": 0,
      "outputs": []
    }
  ]
}